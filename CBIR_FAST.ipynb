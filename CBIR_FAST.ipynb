{
 "cells": [
  {
   "cell_type": "markdown",
   "metadata": {
    "id": "3JDFjtTk23N4"
   },
   "source": [
    "## CBIR CON FAST"
   ]
  },
  {
   "cell_type": "code",
   "execution_count": 1,
   "metadata": {
    "id": "YXt-mmL46I7V"
   },
   "outputs": [],
   "source": [
    "import tensorflow as tf\n",
    "\n",
    "import numpy as np\n",
    "import cv2\n",
    "import matplotlib.pyplot as plt\n",
    "import os"
   ]
  },
  {
   "cell_type": "code",
   "execution_count": 2,
   "metadata": {
    "colab": {
     "base_uri": "https://localhost:8080/",
     "height": 239
    },
    "id": "vcQpMzs026WQ",
    "outputId": "42a18bdd-5fa3-44f2-b398-f1b488f1b55c"
   },
   "outputs": [
    {
     "ename": "error",
     "evalue": "OpenCV(4.6.0) D:\\a\\opencv-python\\opencv-python\\opencv\\modules\\imgproc\\src\\color.cpp:182: error: (-215:Assertion failed) !_src.empty() in function 'cv::cvtColor'\n",
     "output_type": "error",
     "traceback": [
      "\u001b[1;31m---------------------------------------------------------------------------\u001b[0m",
      "\u001b[1;31merror\u001b[0m                                     Traceback (most recent call last)",
      "\u001b[1;32m<ipython-input-2-563a05837789>\u001b[0m in \u001b[0;36m<module>\u001b[1;34m\u001b[0m\n\u001b[0;32m     32\u001b[0m \u001b[1;31m# Cargar la imagen de consulta\u001b[0m\u001b[1;33m\u001b[0m\u001b[1;33m\u001b[0m\u001b[1;33m\u001b[0m\u001b[0m\n\u001b[0;32m     33\u001b[0m \u001b[0mquery_image\u001b[0m \u001b[1;33m=\u001b[0m \u001b[0mcv2\u001b[0m\u001b[1;33m.\u001b[0m\u001b[0mimread\u001b[0m\u001b[1;33m(\u001b[0m\u001b[1;34m'n04487081_3.JPEG'\u001b[0m\u001b[1;33m)\u001b[0m\u001b[1;33m\u001b[0m\u001b[1;33m\u001b[0m\u001b[0m\n\u001b[1;32m---> 34\u001b[1;33m \u001b[0mquery_keypoints\u001b[0m\u001b[1;33m,\u001b[0m \u001b[0mquery_descriptors\u001b[0m \u001b[1;33m=\u001b[0m \u001b[0mcalculate_fast_descriptors\u001b[0m\u001b[1;33m(\u001b[0m\u001b[0mquery_image\u001b[0m\u001b[1;33m)\u001b[0m\u001b[1;33m\u001b[0m\u001b[1;33m\u001b[0m\u001b[0m\n\u001b[0m\u001b[0;32m     35\u001b[0m \u001b[1;33m\u001b[0m\u001b[0m\n\u001b[0;32m     36\u001b[0m \u001b[1;31m# Crear listas de keypoints y descriptores FAST para la base de datos\u001b[0m\u001b[1;33m\u001b[0m\u001b[1;33m\u001b[0m\u001b[1;33m\u001b[0m\u001b[0m\n",
      "\u001b[1;32m<ipython-input-2-563a05837789>\u001b[0m in \u001b[0;36mcalculate_fast_descriptors\u001b[1;34m(image, max_keypoints)\u001b[0m\n\u001b[0;32m      5\u001b[0m \u001b[1;31m# Función para calcular los descriptores FAST de una imagen\u001b[0m\u001b[1;33m\u001b[0m\u001b[1;33m\u001b[0m\u001b[1;33m\u001b[0m\u001b[0m\n\u001b[0;32m      6\u001b[0m \u001b[1;32mdef\u001b[0m \u001b[0mcalculate_fast_descriptors\u001b[0m\u001b[1;33m(\u001b[0m\u001b[0mimage\u001b[0m\u001b[1;33m,\u001b[0m \u001b[0mmax_keypoints\u001b[0m\u001b[1;33m=\u001b[0m\u001b[1;36m100\u001b[0m\u001b[1;33m)\u001b[0m\u001b[1;33m:\u001b[0m\u001b[1;33m\u001b[0m\u001b[1;33m\u001b[0m\u001b[0m\n\u001b[1;32m----> 7\u001b[1;33m     \u001b[0mgray_image\u001b[0m \u001b[1;33m=\u001b[0m \u001b[0mcv2\u001b[0m\u001b[1;33m.\u001b[0m\u001b[0mcvtColor\u001b[0m\u001b[1;33m(\u001b[0m\u001b[0mimage\u001b[0m\u001b[1;33m,\u001b[0m \u001b[0mcv2\u001b[0m\u001b[1;33m.\u001b[0m\u001b[0mCOLOR_BGR2GRAY\u001b[0m\u001b[1;33m)\u001b[0m\u001b[1;33m\u001b[0m\u001b[1;33m\u001b[0m\u001b[0m\n\u001b[0m\u001b[0;32m      8\u001b[0m \u001b[1;33m\u001b[0m\u001b[0m\n\u001b[0;32m      9\u001b[0m     \u001b[1;31m# Crear el detector FAST\u001b[0m\u001b[1;33m\u001b[0m\u001b[1;33m\u001b[0m\u001b[1;33m\u001b[0m\u001b[0m\n",
      "\u001b[1;31merror\u001b[0m: OpenCV(4.6.0) D:\\a\\opencv-python\\opencv-python\\opencv\\modules\\imgproc\\src\\color.cpp:182: error: (-215:Assertion failed) !_src.empty() in function 'cv::cvtColor'\n"
     ]
    }
   ],
   "source": [
    "import cv2\n",
    "import numpy as np\n",
    "from sklearn.neighbors import NearestNeighbors\n",
    "\n",
    "# Función para calcular los descriptores FAST de una imagen\n",
    "def calculate_fast_descriptors(image, max_keypoints=100):\n",
    "    gray_image = cv2.cvtColor(image, cv2.COLOR_BGR2GRAY)\n",
    "\n",
    "    # Crear el detector FAST\n",
    "    fast = cv2.FastFeatureDetector_create()\n",
    "\n",
    "    # Encontrar los keypoints\n",
    "    keypoints = fast.detect(gray_image, None)\n",
    "\n",
    "    # Tomar un máximo de 'max_keypoints' keypoints\n",
    "    if len(keypoints) > max_keypoints:\n",
    "        keypoints = sorted(keypoints, key=lambda x: -x.response)[:max_keypoints]\n",
    "\n",
    "    if not keypoints:\n",
    "        return [], np.zeros((0, 32), dtype=np.uint8)  # Devolver listas vacías o descriptores de ceros si no hay keypoints\n",
    "\n",
    "    # Calcular los descriptores BRIEF para los keypoints\n",
    "    brief = cv2.xfeatures2d.BriefDescriptorExtractor_create()\n",
    "    keypoints, descriptors = brief.compute(gray_image, keypoints)\n",
    "\n",
    "    if descriptors is None or descriptors.shape[1] != 32:\n",
    "        return keypoints, np.zeros((0, 32), dtype=np.uint8)  # Devolver keypoints y descriptores de ceros si no hay descriptores o no tienen 32 características\n",
    "\n",
    "    return keypoints, descriptors\n",
    "\n",
    "\n",
    "# Cargar la imagen de consulta\n",
    "query_image = cv2.imread('n04487081_3.JPEG')\n",
    "query_keypoints, query_descriptors = calculate_fast_descriptors(query_image)\n",
    "\n",
    "# Crear listas de keypoints y descriptores FAST para la base de datos\n",
    "database_images = []\n",
    "for i in range(100):\n",
    "    image_path = f'n04487081_{i}.JPEG'\n",
    "    image = cv2.imread(image_path)\n",
    "    database_keypoints, database_descriptors = calculate_fast_descriptors(image)\n",
    "    database_images.append((image, database_keypoints, database_descriptors))\n",
    "\n",
    "# Crear un modelo de k-NN\n",
    "knn = NearestNeighbors(n_neighbors=5, metric='euclidean')  # Puedes ajustar el número de vecinos (n_neighbors) y la métrica según tus necesidades\n",
    "\n",
    "# Extraer los descriptores de la base de datos\n",
    "database_descriptors = [item[2] for item in database_images]\n",
    "\n",
    "# Filtrar los descriptores vacíos (None)\n",
    "database_descriptors = [descriptor for adescriptor in database_descriptors if descriptor.any()]\n",
    "\n",
    "# Verificar si hay descriptores en la base de datos\n",
    "if not database_descriptors:\n",
    "    print(\"No se detectaron descriptores en la base de datos. Asegúrate de que haya suficientes keypoints en las imágenes de la base de datos.\")\n",
    "else:\n",
    "    # Encontrar la longitud máxima de los descriptores en la base de datos\n",
    "    max_descriptor_length = max(len(descriptor) for descriptor in database_descriptors)\n",
    "\n",
    "    # Rellenar los descriptores más cortos con ceros\n",
    "    for i in range(len(database_descriptors)):\n",
    "        descriptor = database_descriptors[i]\n",
    "        if len(descriptor) < max_descriptor_length:\n",
    "            descriptor = np.pad(descriptor, (0, max_descriptor_length - len(descriptor)), 'constant')\n",
    "        database_descriptors[i] = descriptor\n",
    "\n",
    "    # Apilar los descriptores\n",
    "    database_descriptors = np.vstack(database_descriptors)\n",
    "\n",
    "    # Ajustar el modelo k-NN a los descriptores de la base de datos\n",
    "    knn.fit(database_descriptors)\n",
    "\n",
    "    # Calcular los descriptores para la imagen de consulta\n",
    "    query_descriptors = calculate_fast_descriptors(query_image)[1]\n",
    "\n",
    "    # Encontrar las imágenes más similares usando k-NN\n",
    "    distances, indices = knn.kneighbors(query_descriptors)\n",
    "\n",
    "    # Mostrar las imágenes recuperadas más similares\n",
    "    display_n_similar(indices[0], 8)\n"
   ]
  }
 ],
 "metadata": {
  "colab": {
   "gpuType": "T4",
   "provenance": []
  },
  "kernelspec": {
   "display_name": "Python 3",
   "language": "python",
   "name": "python3"
  },
  "language_info": {
   "codemirror_mode": {
    "name": "ipython",
    "version": 3
   },
   "file_extension": ".py",
   "mimetype": "text/x-python",
   "name": "python",
   "nbconvert_exporter": "python",
   "pygments_lexer": "ipython3",
   "version": "3.8.8"
  }
 },
 "nbformat": 4,
 "nbformat_minor": 1
}
