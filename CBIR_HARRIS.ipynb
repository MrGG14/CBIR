{
 "cells": [
  {
   "cell_type": "markdown",
   "id": "5feab168",
   "metadata": {},
   "source": [
    "# CBIR CON HARRIS"
   ]
  },
  {
   "cell_type": "code",
   "execution_count": null,
   "id": "a1a2aa3d",
   "metadata": {},
   "outputs": [],
   "source": [
    "import cv2\n",
    "import numpy as np\n",
    "from sklearn.neighbors import NearestNeighbors\n",
    "\n",
    "# Función para calcular los descriptores de esquinas Harris de una imagen\n",
    "def calculate_harris_descriptors(image, max_corners=100):\n",
    "    gray_image = cv2.cvtColor(image, cv2.COLOR_BGR2GRAY)\n",
    "\n",
    "    # Detectar esquinas Harris\n",
    "    dst = cv2.cornerHarris(gray_image, blockSize=2, ksize=3, k=0.04)\n",
    "\n",
    "    # Normalizar la matriz de esquinas\n",
    "    norm_dst = cv2.normalize(dst, None, 0, 255, cv2.NORM_MINMAX)\n",
    "\n",
    "    # Encontrar las coordenadas de las esquinas\n",
    "    corners = np.argwhere(norm_dst > 150)  # Puedes ajustar este umbral según tus necesidades\n",
    "\n",
    "    # Tomar un máximo de 'max_corners' esquinas\n",
    "    if len(corners) > max_corners:\n",
    "        np.random.shuffle(corners)\n",
    "        corners = corners[:max_corners]\n",
    "\n",
    "    return corners\n",
    "\n",
    "# Cargar la imagen de consulta\n",
    "query_image = cv2.imread('n04487081_3.JPEG')\n",
    "query_corners = calculate_harris_descriptors(query_image)\n",
    "\n",
    "# Crear una lista de descriptores de esquinas Harris para la base de datos\n",
    "database_images = []\n",
    "for i in range(100):\n",
    "    image_path = f'n04487081_{i}.JPEG'\n",
    "    image = cv2.imread(image_path)\n",
    "    database_corners = calculate_harris_descriptors(image)\n",
    "    database_images.append((image, database_corners))\n",
    "\n",
    "# Crear un modelo de k-NN\n",
    "knn = NearestNeighbors(n_neighbors=5, metric='euclidean')  # Puedes ajustar el número de vecinos (n_neighbors) y la métrica según tus necesidades\n",
    "\n",
    "# Ajustar el modelo k-NN a los descriptores de esquinas Harris de la base de datos\n",
    "# Ajustar el modelo k-NN a los descriptores de esquinas Harris de la base de datos\n",
    "\n",
    "knn.fit(database_corners)\n",
    "\n",
    "# Encontrar las imágenes más similares usando k-NN\n",
    "\n",
    "query_features = np.mean(query_corners, axis=0)  # Media de las coordenadas de las esquinas\n",
    "query_features = query_features.reshape(1, -1)  # Reformatear a una matriz bidimensional\n",
    "\n",
    "# Encontrar las imágenes más similares usando k-NN\n",
    "distances, indices = knn.kneighbors(query_features)\n",
    "\n",
    "# Mostrar las imágenes recuperadas más similares\n",
    "display_n_similar(indices[0], 8)\n"
   ]
  }
 ],
 "metadata": {
  "kernelspec": {
   "display_name": "Python 3",
   "language": "python",
   "name": "python3"
  },
  "language_info": {
   "codemirror_mode": {
    "name": "ipython",
    "version": 3
   },
   "file_extension": ".py",
   "mimetype": "text/x-python",
   "name": "python",
   "nbconvert_exporter": "python",
   "pygments_lexer": "ipython3",
   "version": "3.8.8"
  }
 },
 "nbformat": 4,
 "nbformat_minor": 5
}
