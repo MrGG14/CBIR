{
 "cells": [
  {
   "cell_type": "markdown",
   "id": "82a79c17",
   "metadata": {},
   "source": [
    "# CBIR CON HISTOGRAMA DE COLOR"
   ]
  },
  {
   "cell_type": "code",
   "execution_count": null,
   "id": "1c30a372",
   "metadata": {},
   "outputs": [],
   "source": [
    "import cv2\n",
    "import numpy as np"
   ]
  },
  {
   "cell_type": "code",
   "execution_count": null,
   "id": "441b17ba",
   "metadata": {},
   "outputs": [],
   "source": [
    "import cv2\n",
    "import numpy as np\n",
    "from sklearn.neighbors import NearestNeighbors\n",
    "\n",
    "# Función para calcular el histograma de color de una imagen\n",
    "def calculate_color_histogram(image, bins=8):\n",
    "    hsv_image = cv2.cvtColor(image, cv2.COLOR_BGR2RGB)\n",
    "    histograms = []\n",
    "    for i in range(3):\n",
    "        hist = cv2.calcHist([hsv_image], [i], None, [bins], [0, 256])\n",
    "        histograms.append(hist)\n",
    "    histogram = np.concatenate(histograms)\n",
    "    histogram = cv2.normalize(histogram, None).flatten()\n",
    "    return histogram\n",
    "\n",
    "# Cargar la imagen de consulta\n",
    "query_image = cv2.imread('n04487081_3.JPEG')\n",
    "query_histogram = calculate_color_histogram(query_image)\n",
    "\n",
    "# Crear una matriz de histogramas para la base de datos\n",
    "database_images = []\n",
    "for i in range(0, 100):\n",
    "  database_images =+ cv2.imread(f'n04487081_{i}.JPEG')  # Reemplaza con tus propias imágenes\n",
    "\n",
    "database_histograms = []\n",
    "\n",
    "for image_path in database_images:\n",
    "    image =(image_path)\n",
    "    hist = calculate_color_histogram(image)\n",
    "    database_histograms.append(hist)\n",
    "\n",
    "# Convertir la lista de histogramas a un array\n",
    "database_histograms = np.array(database_histograms)\n",
    "\n",
    "# Crear un modelo de k-NN\n",
    "knn = NearestNeighbors(n_neighbors=5, metric='l2')  # Puedes ajustar el número de vecinos (n_neighbors) según tus necesidades\n",
    "\n",
    "# Ajustar el modelo k-NN a los histogramas de la base de datos\n",
    "knn.fit(database_histograms)\n",
    "\n",
    "# Encontrar las imágenes más similares usando k-NN\n",
    "distances, indices = knn.kneighbors([query_histogram])\n",
    "\n",
    "# Mostrar las imágenes recuperadas más similares\n",
    "display_n_similar(indices[0], 8)"
   ]
  }
 ],
 "metadata": {
  "kernelspec": {
   "display_name": "Python 3",
   "language": "python",
   "name": "python3"
  },
  "language_info": {
   "codemirror_mode": {
    "name": "ipython",
    "version": 3
   },
   "file_extension": ".py",
   "mimetype": "text/x-python",
   "name": "python",
   "nbconvert_exporter": "python",
   "pygments_lexer": "ipython3",
   "version": "3.8.8"
  }
 },
 "nbformat": 4,
 "nbformat_minor": 5
}
