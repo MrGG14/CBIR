{
 "cells": [
  {
   "cell_type": "code",
   "execution_count": null,
   "id": "20fd7f6f",
   "metadata": {},
   "outputs": [],
   "source": [
    "import tensorflow as tf\n",
    "import numpy as np\n",
    "import cv2\n",
    "import matplotlib.pyplot as plt\n",
    "import os\n",
    "import random\n",
    "from sklearn.neighbors import NearestNeighbors\n",
    "def get_n_similar(n, counts, reverse):\n",
    "    sorted_counts = sorted(counts.items(), key=lambda x:x[1], reverse=reverse)[:n] #Ordeno y me quedo con los 5 más parecidos\n",
    "    sorted_indexes = [idx[0] for idx in sorted_counts]\n",
    "    return sorted_indexes\n",
    "\n",
    "descriptors = np.load('SIFT_descriptors.npy')\n",
    "\n",
    "sift = cv2.SIFT_create()\n",
    "n_neighbors = 50\n",
    "\n",
    "knn = NearestNeighbors(n_neighbors=n_neighbors, algorithm='auto', metric='euclidean')\n",
    "\n",
    "descriptors_train = descriptors[:, 2:] #Quitamos los dos primeros pertenecientes a indices de la imagen\n",
    "knn.fit(descriptors_train)\n",
    "\n",
    "counts = {}\n",
    "#LEER IMAGEN DE CONSULTA\n",
    "new_image_path = list(images_path.values())[random.randrange(0, len(carpetas)*n_imgs - 1)]\n",
    "new_img = cv2.cvtColor(cv2.imread(new_image_path), cv2.COLOR_BGR2RGB)\n",
    "\n",
    "_ , new_descriptors = sift.detectAndCompute(new_img, mask=None)\n",
    "for descriptor in new_descriptors:\n",
    "    descriptor = descriptor.reshape(1, -1)\n",
    "    distance, indice = knn.kneighbors(descriptor, n_neighbors=n_neighbors)\n",
    "    for idx in indice[0]:\n",
    "        carpeta = str(int(descriptors[idx,0]))\n",
    "        num_img = str(int(descriptors[idx,1]))\n",
    "        id = (carpeta, num_img)\n",
    "        if id in counts:\n",
    "            counts[id] += 1\n",
    "        else:\n",
    "            counts[id] = 1\n",
    "            \n",
    "idx_similar = get_n_similar(5, counts, 1)"
   ]
  }
 ],
 "metadata": {
  "kernelspec": {
   "display_name": "Python 3 (ipykernel)",
   "language": "python",
   "name": "python3"
  },
  "language_info": {
   "codemirror_mode": {
    "name": "ipython",
    "version": 3
   },
   "file_extension": ".py",
   "mimetype": "text/x-python",
   "name": "python",
   "nbconvert_exporter": "python",
   "pygments_lexer": "ipython3",
   "version": "3.10.9"
  }
 },
 "nbformat": 4,
 "nbformat_minor": 5
}
