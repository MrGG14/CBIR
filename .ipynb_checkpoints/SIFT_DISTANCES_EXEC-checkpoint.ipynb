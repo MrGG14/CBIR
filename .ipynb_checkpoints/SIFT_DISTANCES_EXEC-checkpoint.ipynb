{
 "cells": [
  {
   "cell_type": "code",
   "execution_count": null,
   "id": "86704196",
   "metadata": {},
   "outputs": [],
   "source": [
    "import tensorflow as tf\n",
    "import numpy as np\n",
    "import cv2\n",
    "import matplotlib.pyplot as plt\n",
    "import os\n",
    "import random\n",
    "from sklearn.neighbors import NearestNeighbors\n",
    "from statistics import mean\n",
    "\n",
    "def get_n_similar(n, counts, reverse):\n",
    "    sorted_counts = sorted(counts.items(), key=lambda x:x[1], reverse=reverse)[:n] #Ordeno y me quedo con los 5 más parecidos\n",
    "    sorted_indexes = [idx[0] for idx in sorted_counts]\n",
    "    return sorted_indexes\n",
    "\n",
    "descriptors = np.load('SIFT_descriptors.npy')\n",
    "\n",
    "\n",
    "sift = cv2.SIFT_create()\n",
    "n_neighbors = len(descriptors)\n",
    "knn = NearestNeighbors(n_neighbors=n_neighbors, algorithm='auto', metric='euclidean')\n",
    "\n",
    "descriptors_train = descriptors[:, 2:]\n",
    "knn.fit(descriptors_train)\n",
    "\n",
    "counts = {}\n",
    "\n",
    "new_image_path = list(images_path.values())[random.randrange(0, len(carpetas)*n_imgs - 1)]\n",
    "new_img = cv2.cvtColor(cv2.imread(new_image_path), cv2.COLOR_BGR2RGB)\n",
    "_ , descriptor = sift.detectAndCompute(new_img, mask=None)\n",
    "descriptors_arr = np.array(descriptor)\n",
    "for descriptor_i in descriptor:\n",
    "    descriptor_i = descriptor_i.reshape(1, -1)\n",
    "    distance, indice = knn.kneighbors(descriptor_i, n_neighbors=n_neighbors)\n",
    "    idx_dist = list(zip(indice[0], distance[0]))\n",
    "    for tupl in idx_dist:\n",
    "        carpeta = str(int(descriptors[tupl[0],0]))\n",
    "        num_img = str(int(descriptors[tupl[0],1]))\n",
    "        id = (carpeta, num_img)\n",
    "        if id in counts:\n",
    "            counts[id] += [tupl[1]]\n",
    "        else:\n",
    "            counts[id] = [tupl[1]]\n",
    "            \n",
    "            \n",
    "avg_distances = {clave: mean(valores) for clave, valores in counts.items()}\n",
    "sorted_indexes = get_n_similar(7, avg_distances, 0)"
   ]
  }
 ],
 "metadata": {
  "kernelspec": {
   "display_name": "Python 3 (ipykernel)",
   "language": "python",
   "name": "python3"
  },
  "language_info": {
   "codemirror_mode": {
    "name": "ipython",
    "version": 3
   },
   "file_extension": ".py",
   "mimetype": "text/x-python",
   "name": "python",
   "nbconvert_exporter": "python",
   "pygments_lexer": "ipython3",
   "version": "3.10.9"
  }
 },
 "nbformat": 4,
 "nbformat_minor": 5
}
